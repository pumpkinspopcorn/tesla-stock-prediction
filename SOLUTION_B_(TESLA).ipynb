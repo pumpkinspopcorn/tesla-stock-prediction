{
  "nbformat": 4,
  "nbformat_minor": 0,
  "metadata": {
    "colab": {
      "name": "SOLUTION B (TESLA).ipynb",
      "provenance": [],
      "collapsed_sections": []
    },
    "kernelspec": {
      "name": "python3",
      "display_name": "Python 3"
    },
    "language_info": {
      "name": "python"
    }
  },
  "cells": [
    {
      "cell_type": "markdown",
      "source": [
        "**IMPORTING LIBRARIES**"
      ],
      "metadata": {
        "id": "nhKuCbk7-iLi"
      }
    },
    {
      "cell_type": "code",
      "execution_count": 1,
      "metadata": {
        "id": "eTI36Obugu9Z"
      },
      "outputs": [],
      "source": [
        "import numpy as np\n",
        "import tensorflow as tf\n",
        "import pandas as pd\n",
        "import matplotlib.pyplot as plt\n",
        "from sklearn.preprocessing import StandardScaler\n",
        "%matplotlib inline"
      ]
    },
    {
      "cell_type": "markdown",
      "source": [
        "**IMPORTING THE TESLA CSV FILE**"
      ],
      "metadata": {
        "id": "9cMUx_Hx-uxM"
      }
    },
    {
      "cell_type": "code",
      "source": [
        "data= pd.read_csv('/content/TSLA.csv')\n",
        "data.head(10)"
      ],
      "metadata": {
        "colab": {
          "base_uri": "https://localhost:8080/",
          "height": 363
        },
        "id": "W__WgF0dlQp7",
        "outputId": "2aacdca3-dbdb-4953-85e0-ca90971aea6c"
      },
      "execution_count": 2,
      "outputs": [
        {
          "output_type": "execute_result",
          "data": {
            "text/html": [
              "\n",
              "  <div id=\"df-36964c79-6354-42a8-a909-59a3f177da3a\">\n",
              "    <div class=\"colab-df-container\">\n",
              "      <div>\n",
              "<style scoped>\n",
              "    .dataframe tbody tr th:only-of-type {\n",
              "        vertical-align: middle;\n",
              "    }\n",
              "\n",
              "    .dataframe tbody tr th {\n",
              "        vertical-align: top;\n",
              "    }\n",
              "\n",
              "    .dataframe thead th {\n",
              "        text-align: right;\n",
              "    }\n",
              "</style>\n",
              "<table border=\"1\" class=\"dataframe\">\n",
              "  <thead>\n",
              "    <tr style=\"text-align: right;\">\n",
              "      <th></th>\n",
              "      <th>Date</th>\n",
              "      <th>Open</th>\n",
              "      <th>High</th>\n",
              "      <th>Low</th>\n",
              "      <th>Close</th>\n",
              "      <th>Adj Close</th>\n",
              "      <th>Volume</th>\n",
              "    </tr>\n",
              "  </thead>\n",
              "  <tbody>\n",
              "    <tr>\n",
              "      <th>0</th>\n",
              "      <td>2021-01-08</td>\n",
              "      <td>856.000000</td>\n",
              "      <td>884.489990</td>\n",
              "      <td>838.390015</td>\n",
              "      <td>880.020020</td>\n",
              "      <td>880.020020</td>\n",
              "      <td>75055500</td>\n",
              "    </tr>\n",
              "    <tr>\n",
              "      <th>1</th>\n",
              "      <td>2021-01-11</td>\n",
              "      <td>849.400024</td>\n",
              "      <td>854.429993</td>\n",
              "      <td>803.619995</td>\n",
              "      <td>811.190002</td>\n",
              "      <td>811.190002</td>\n",
              "      <td>59301600</td>\n",
              "    </tr>\n",
              "    <tr>\n",
              "      <th>2</th>\n",
              "      <td>2021-01-12</td>\n",
              "      <td>831.000000</td>\n",
              "      <td>868.000000</td>\n",
              "      <td>827.340027</td>\n",
              "      <td>849.440002</td>\n",
              "      <td>849.440002</td>\n",
              "      <td>46270700</td>\n",
              "    </tr>\n",
              "    <tr>\n",
              "      <th>3</th>\n",
              "      <td>2021-01-13</td>\n",
              "      <td>852.760010</td>\n",
              "      <td>860.469971</td>\n",
              "      <td>832.000000</td>\n",
              "      <td>854.409973</td>\n",
              "      <td>854.409973</td>\n",
              "      <td>33312500</td>\n",
              "    </tr>\n",
              "    <tr>\n",
              "      <th>4</th>\n",
              "      <td>2021-01-14</td>\n",
              "      <td>843.390015</td>\n",
              "      <td>863.000000</td>\n",
              "      <td>838.750000</td>\n",
              "      <td>845.000000</td>\n",
              "      <td>845.000000</td>\n",
              "      <td>31266300</td>\n",
              "    </tr>\n",
              "    <tr>\n",
              "      <th>5</th>\n",
              "      <td>2021-01-15</td>\n",
              "      <td>852.000000</td>\n",
              "      <td>859.900024</td>\n",
              "      <td>819.099976</td>\n",
              "      <td>826.159973</td>\n",
              "      <td>826.159973</td>\n",
              "      <td>38777600</td>\n",
              "    </tr>\n",
              "    <tr>\n",
              "      <th>6</th>\n",
              "      <td>2021-01-19</td>\n",
              "      <td>837.799988</td>\n",
              "      <td>850.000000</td>\n",
              "      <td>833.000000</td>\n",
              "      <td>844.549988</td>\n",
              "      <td>844.549988</td>\n",
              "      <td>25367000</td>\n",
              "    </tr>\n",
              "    <tr>\n",
              "      <th>7</th>\n",
              "      <td>2021-01-20</td>\n",
              "      <td>858.739990</td>\n",
              "      <td>859.500000</td>\n",
              "      <td>837.280029</td>\n",
              "      <td>850.450012</td>\n",
              "      <td>850.450012</td>\n",
              "      <td>25665900</td>\n",
              "    </tr>\n",
              "    <tr>\n",
              "      <th>8</th>\n",
              "      <td>2021-01-21</td>\n",
              "      <td>855.000000</td>\n",
              "      <td>855.719971</td>\n",
              "      <td>841.419983</td>\n",
              "      <td>844.989990</td>\n",
              "      <td>844.989990</td>\n",
              "      <td>20521100</td>\n",
              "    </tr>\n",
              "    <tr>\n",
              "      <th>9</th>\n",
              "      <td>2021-01-22</td>\n",
              "      <td>834.309998</td>\n",
              "      <td>848.000000</td>\n",
              "      <td>828.619995</td>\n",
              "      <td>846.640015</td>\n",
              "      <td>846.640015</td>\n",
              "      <td>20066500</td>\n",
              "    </tr>\n",
              "  </tbody>\n",
              "</table>\n",
              "</div>\n",
              "      <button class=\"colab-df-convert\" onclick=\"convertToInteractive('df-36964c79-6354-42a8-a909-59a3f177da3a')\"\n",
              "              title=\"Convert this dataframe to an interactive table.\"\n",
              "              style=\"display:none;\">\n",
              "        \n",
              "  <svg xmlns=\"http://www.w3.org/2000/svg\" height=\"24px\"viewBox=\"0 0 24 24\"\n",
              "       width=\"24px\">\n",
              "    <path d=\"M0 0h24v24H0V0z\" fill=\"none\"/>\n",
              "    <path d=\"M18.56 5.44l.94 2.06.94-2.06 2.06-.94-2.06-.94-.94-2.06-.94 2.06-2.06.94zm-11 1L8.5 8.5l.94-2.06 2.06-.94-2.06-.94L8.5 2.5l-.94 2.06-2.06.94zm10 10l.94 2.06.94-2.06 2.06-.94-2.06-.94-.94-2.06-.94 2.06-2.06.94z\"/><path d=\"M17.41 7.96l-1.37-1.37c-.4-.4-.92-.59-1.43-.59-.52 0-1.04.2-1.43.59L10.3 9.45l-7.72 7.72c-.78.78-.78 2.05 0 2.83L4 21.41c.39.39.9.59 1.41.59.51 0 1.02-.2 1.41-.59l7.78-7.78 2.81-2.81c.8-.78.8-2.07 0-2.86zM5.41 20L4 18.59l7.72-7.72 1.47 1.35L5.41 20z\"/>\n",
              "  </svg>\n",
              "      </button>\n",
              "      \n",
              "  <style>\n",
              "    .colab-df-container {\n",
              "      display:flex;\n",
              "      flex-wrap:wrap;\n",
              "      gap: 12px;\n",
              "    }\n",
              "\n",
              "    .colab-df-convert {\n",
              "      background-color: #E8F0FE;\n",
              "      border: none;\n",
              "      border-radius: 50%;\n",
              "      cursor: pointer;\n",
              "      display: none;\n",
              "      fill: #1967D2;\n",
              "      height: 32px;\n",
              "      padding: 0 0 0 0;\n",
              "      width: 32px;\n",
              "    }\n",
              "\n",
              "    .colab-df-convert:hover {\n",
              "      background-color: #E2EBFA;\n",
              "      box-shadow: 0px 1px 2px rgba(60, 64, 67, 0.3), 0px 1px 3px 1px rgba(60, 64, 67, 0.15);\n",
              "      fill: #174EA6;\n",
              "    }\n",
              "\n",
              "    [theme=dark] .colab-df-convert {\n",
              "      background-color: #3B4455;\n",
              "      fill: #D2E3FC;\n",
              "    }\n",
              "\n",
              "    [theme=dark] .colab-df-convert:hover {\n",
              "      background-color: #434B5C;\n",
              "      box-shadow: 0px 1px 3px 1px rgba(0, 0, 0, 0.15);\n",
              "      filter: drop-shadow(0px 1px 2px rgba(0, 0, 0, 0.3));\n",
              "      fill: #FFFFFF;\n",
              "    }\n",
              "  </style>\n",
              "\n",
              "      <script>\n",
              "        const buttonEl =\n",
              "          document.querySelector('#df-36964c79-6354-42a8-a909-59a3f177da3a button.colab-df-convert');\n",
              "        buttonEl.style.display =\n",
              "          google.colab.kernel.accessAllowed ? 'block' : 'none';\n",
              "\n",
              "        async function convertToInteractive(key) {\n",
              "          const element = document.querySelector('#df-36964c79-6354-42a8-a909-59a3f177da3a');\n",
              "          const dataTable =\n",
              "            await google.colab.kernel.invokeFunction('convertToInteractive',\n",
              "                                                     [key], {});\n",
              "          if (!dataTable) return;\n",
              "\n",
              "          const docLinkHtml = 'Like what you see? Visit the ' +\n",
              "            '<a target=\"_blank\" href=https://colab.research.google.com/notebooks/data_table.ipynb>data table notebook</a>'\n",
              "            + ' to learn more about interactive tables.';\n",
              "          element.innerHTML = '';\n",
              "          dataTable['output_type'] = 'display_data';\n",
              "          await google.colab.output.renderOutput(dataTable, element);\n",
              "          const docLink = document.createElement('div');\n",
              "          docLink.innerHTML = docLinkHtml;\n",
              "          element.appendChild(docLink);\n",
              "        }\n",
              "      </script>\n",
              "    </div>\n",
              "  </div>\n",
              "  "
            ],
            "text/plain": [
              "         Date        Open        High  ...       Close   Adj Close    Volume\n",
              "0  2021-01-08  856.000000  884.489990  ...  880.020020  880.020020  75055500\n",
              "1  2021-01-11  849.400024  854.429993  ...  811.190002  811.190002  59301600\n",
              "2  2021-01-12  831.000000  868.000000  ...  849.440002  849.440002  46270700\n",
              "3  2021-01-13  852.760010  860.469971  ...  854.409973  854.409973  33312500\n",
              "4  2021-01-14  843.390015  863.000000  ...  845.000000  845.000000  31266300\n",
              "5  2021-01-15  852.000000  859.900024  ...  826.159973  826.159973  38777600\n",
              "6  2021-01-19  837.799988  850.000000  ...  844.549988  844.549988  25367000\n",
              "7  2021-01-20  858.739990  859.500000  ...  850.450012  850.450012  25665900\n",
              "8  2021-01-21  855.000000  855.719971  ...  844.989990  844.989990  20521100\n",
              "9  2021-01-22  834.309998  848.000000  ...  846.640015  846.640015  20066500\n",
              "\n",
              "[10 rows x 7 columns]"
            ]
          },
          "metadata": {},
          "execution_count": 2
        }
      ]
    },
    {
      "cell_type": "markdown",
      "source": [
        "**PRELIMINARY STEPS**"
      ],
      "metadata": {
        "id": "q6SZ5t-VAs9K"
      }
    },
    {
      "cell_type": "code",
      "source": [
        "data.describe()"
      ],
      "metadata": {
        "colab": {
          "base_uri": "https://localhost:8080/",
          "height": 300
        },
        "id": "B4Xa45zPliPY",
        "outputId": "3042ead9-cf23-4185-ab4c-f0725e6673f5"
      },
      "execution_count": 3,
      "outputs": [
        {
          "output_type": "execute_result",
          "data": {
            "text/html": [
              "\n",
              "  <div id=\"df-808805d1-b891-4fda-8806-187aabdc3d4f\">\n",
              "    <div class=\"colab-df-container\">\n",
              "      <div>\n",
              "<style scoped>\n",
              "    .dataframe tbody tr th:only-of-type {\n",
              "        vertical-align: middle;\n",
              "    }\n",
              "\n",
              "    .dataframe tbody tr th {\n",
              "        vertical-align: top;\n",
              "    }\n",
              "\n",
              "    .dataframe thead th {\n",
              "        text-align: right;\n",
              "    }\n",
              "</style>\n",
              "<table border=\"1\" class=\"dataframe\">\n",
              "  <thead>\n",
              "    <tr style=\"text-align: right;\">\n",
              "      <th></th>\n",
              "      <th>Open</th>\n",
              "      <th>High</th>\n",
              "      <th>Low</th>\n",
              "      <th>Close</th>\n",
              "      <th>Adj Close</th>\n",
              "      <th>Volume</th>\n",
              "    </tr>\n",
              "  </thead>\n",
              "  <tbody>\n",
              "    <tr>\n",
              "      <th>count</th>\n",
              "      <td>253.000000</td>\n",
              "      <td>253.000000</td>\n",
              "      <td>253.000000</td>\n",
              "      <td>253.000000</td>\n",
              "      <td>253.000000</td>\n",
              "      <td>2.530000e+02</td>\n",
              "    </tr>\n",
              "    <tr>\n",
              "      <th>mean</th>\n",
              "      <td>787.278973</td>\n",
              "      <td>803.147982</td>\n",
              "      <td>769.218815</td>\n",
              "      <td>786.762290</td>\n",
              "      <td>786.762290</td>\n",
              "      <td>2.718314e+07</td>\n",
              "    </tr>\n",
              "    <tr>\n",
              "      <th>std</th>\n",
              "      <td>167.484476</td>\n",
              "      <td>172.616960</td>\n",
              "      <td>161.225110</td>\n",
              "      <td>167.327276</td>\n",
              "      <td>167.327276</td>\n",
              "      <td>1.188425e+07</td>\n",
              "    </tr>\n",
              "    <tr>\n",
              "      <th>min</th>\n",
              "      <td>552.549988</td>\n",
              "      <td>566.210022</td>\n",
              "      <td>539.489990</td>\n",
              "      <td>563.000000</td>\n",
              "      <td>563.000000</td>\n",
              "      <td>9.800600e+06</td>\n",
              "    </tr>\n",
              "    <tr>\n",
              "      <th>25%</th>\n",
              "      <td>670.000000</td>\n",
              "      <td>684.000000</td>\n",
              "      <td>652.000000</td>\n",
              "      <td>668.059998</td>\n",
              "      <td>668.059998</td>\n",
              "      <td>1.882670e+07</td>\n",
              "    </tr>\n",
              "    <tr>\n",
              "      <th>50%</th>\n",
              "      <td>726.150024</td>\n",
              "      <td>740.969971</td>\n",
              "      <td>712.729980</td>\n",
              "      <td>730.909973</td>\n",
              "      <td>730.909973</td>\n",
              "      <td>2.481270e+07</td>\n",
              "    </tr>\n",
              "    <tr>\n",
              "      <th>75%</th>\n",
              "      <td>855.119995</td>\n",
              "      <td>875.260010</td>\n",
              "      <td>841.750000</td>\n",
              "      <td>863.419983</td>\n",
              "      <td>863.419983</td>\n",
              "      <td>3.239040e+07</td>\n",
              "    </tr>\n",
              "    <tr>\n",
              "      <th>max</th>\n",
              "      <td>1234.410034</td>\n",
              "      <td>1243.489990</td>\n",
              "      <td>1217.000000</td>\n",
              "      <td>1229.910034</td>\n",
              "      <td>1229.910034</td>\n",
              "      <td>8.939650e+07</td>\n",
              "    </tr>\n",
              "  </tbody>\n",
              "</table>\n",
              "</div>\n",
              "      <button class=\"colab-df-convert\" onclick=\"convertToInteractive('df-808805d1-b891-4fda-8806-187aabdc3d4f')\"\n",
              "              title=\"Convert this dataframe to an interactive table.\"\n",
              "              style=\"display:none;\">\n",
              "        \n",
              "  <svg xmlns=\"http://www.w3.org/2000/svg\" height=\"24px\"viewBox=\"0 0 24 24\"\n",
              "       width=\"24px\">\n",
              "    <path d=\"M0 0h24v24H0V0z\" fill=\"none\"/>\n",
              "    <path d=\"M18.56 5.44l.94 2.06.94-2.06 2.06-.94-2.06-.94-.94-2.06-.94 2.06-2.06.94zm-11 1L8.5 8.5l.94-2.06 2.06-.94-2.06-.94L8.5 2.5l-.94 2.06-2.06.94zm10 10l.94 2.06.94-2.06 2.06-.94-2.06-.94-.94-2.06-.94 2.06-2.06.94z\"/><path d=\"M17.41 7.96l-1.37-1.37c-.4-.4-.92-.59-1.43-.59-.52 0-1.04.2-1.43.59L10.3 9.45l-7.72 7.72c-.78.78-.78 2.05 0 2.83L4 21.41c.39.39.9.59 1.41.59.51 0 1.02-.2 1.41-.59l7.78-7.78 2.81-2.81c.8-.78.8-2.07 0-2.86zM5.41 20L4 18.59l7.72-7.72 1.47 1.35L5.41 20z\"/>\n",
              "  </svg>\n",
              "      </button>\n",
              "      \n",
              "  <style>\n",
              "    .colab-df-container {\n",
              "      display:flex;\n",
              "      flex-wrap:wrap;\n",
              "      gap: 12px;\n",
              "    }\n",
              "\n",
              "    .colab-df-convert {\n",
              "      background-color: #E8F0FE;\n",
              "      border: none;\n",
              "      border-radius: 50%;\n",
              "      cursor: pointer;\n",
              "      display: none;\n",
              "      fill: #1967D2;\n",
              "      height: 32px;\n",
              "      padding: 0 0 0 0;\n",
              "      width: 32px;\n",
              "    }\n",
              "\n",
              "    .colab-df-convert:hover {\n",
              "      background-color: #E2EBFA;\n",
              "      box-shadow: 0px 1px 2px rgba(60, 64, 67, 0.3), 0px 1px 3px 1px rgba(60, 64, 67, 0.15);\n",
              "      fill: #174EA6;\n",
              "    }\n",
              "\n",
              "    [theme=dark] .colab-df-convert {\n",
              "      background-color: #3B4455;\n",
              "      fill: #D2E3FC;\n",
              "    }\n",
              "\n",
              "    [theme=dark] .colab-df-convert:hover {\n",
              "      background-color: #434B5C;\n",
              "      box-shadow: 0px 1px 3px 1px rgba(0, 0, 0, 0.15);\n",
              "      filter: drop-shadow(0px 1px 2px rgba(0, 0, 0, 0.3));\n",
              "      fill: #FFFFFF;\n",
              "    }\n",
              "  </style>\n",
              "\n",
              "      <script>\n",
              "        const buttonEl =\n",
              "          document.querySelector('#df-808805d1-b891-4fda-8806-187aabdc3d4f button.colab-df-convert');\n",
              "        buttonEl.style.display =\n",
              "          google.colab.kernel.accessAllowed ? 'block' : 'none';\n",
              "\n",
              "        async function convertToInteractive(key) {\n",
              "          const element = document.querySelector('#df-808805d1-b891-4fda-8806-187aabdc3d4f');\n",
              "          const dataTable =\n",
              "            await google.colab.kernel.invokeFunction('convertToInteractive',\n",
              "                                                     [key], {});\n",
              "          if (!dataTable) return;\n",
              "\n",
              "          const docLinkHtml = 'Like what you see? Visit the ' +\n",
              "            '<a target=\"_blank\" href=https://colab.research.google.com/notebooks/data_table.ipynb>data table notebook</a>'\n",
              "            + ' to learn more about interactive tables.';\n",
              "          element.innerHTML = '';\n",
              "          dataTable['output_type'] = 'display_data';\n",
              "          await google.colab.output.renderOutput(dataTable, element);\n",
              "          const docLink = document.createElement('div');\n",
              "          docLink.innerHTML = docLinkHtml;\n",
              "          element.appendChild(docLink);\n",
              "        }\n",
              "      </script>\n",
              "    </div>\n",
              "  </div>\n",
              "  "
            ],
            "text/plain": [
              "              Open         High  ...    Adj Close        Volume\n",
              "count   253.000000   253.000000  ...   253.000000  2.530000e+02\n",
              "mean    787.278973   803.147982  ...   786.762290  2.718314e+07\n",
              "std     167.484476   172.616960  ...   167.327276  1.188425e+07\n",
              "min     552.549988   566.210022  ...   563.000000  9.800600e+06\n",
              "25%     670.000000   684.000000  ...   668.059998  1.882670e+07\n",
              "50%     726.150024   740.969971  ...   730.909973  2.481270e+07\n",
              "75%     855.119995   875.260010  ...   863.419983  3.239040e+07\n",
              "max    1234.410034  1243.489990  ...  1229.910034  8.939650e+07\n",
              "\n",
              "[8 rows x 6 columns]"
            ]
          },
          "metadata": {},
          "execution_count": 3
        }
      ]
    },
    {
      "cell_type": "markdown",
      "source": [
        "**DATA PRE-PROCESSING**"
      ],
      "metadata": {
        "id": "ZKmgwjD6-3Vs"
      }
    },
    {
      "cell_type": "code",
      "source": [
        "data = data[~data.duplicated()]"
      ],
      "metadata": {
        "id": "a37QaMaeliSL"
      },
      "execution_count": 4,
      "outputs": []
    },
    {
      "cell_type": "code",
      "source": [
        "\n",
        "data.isnull().sum()"
      ],
      "metadata": {
        "colab": {
          "base_uri": "https://localhost:8080/"
        },
        "id": "s72OLrvIliU0",
        "outputId": "133c742a-41f8-4b1a-9de3-63eae8deab34"
      },
      "execution_count": 5,
      "outputs": [
        {
          "output_type": "execute_result",
          "data": {
            "text/plain": [
              "Date         0\n",
              "Open         0\n",
              "High         0\n",
              "Low          0\n",
              "Close        0\n",
              "Adj Close    0\n",
              "Volume       0\n",
              "dtype: int64"
            ]
          },
          "metadata": {},
          "execution_count": 5
        }
      ]
    },
    {
      "cell_type": "code",
      "source": [
        "data_to_use = data['Close'].values"
      ],
      "metadata": {
        "id": "X75O9KS4lQvw"
      },
      "execution_count": 6,
      "outputs": []
    },
    {
      "cell_type": "code",
      "source": [
        "print('Total number of days in the dataset: {}'.format(len(data_to_use)))"
      ],
      "metadata": {
        "id": "v5hHpd21oMl_",
        "colab": {
          "base_uri": "https://localhost:8080/"
        },
        "outputId": "b5bc6278-75af-431a-daeb-dfabcde48644"
      },
      "execution_count": 7,
      "outputs": [
        {
          "output_type": "stream",
          "name": "stdout",
          "text": [
            "Total number of days in the dataset: 253\n"
          ]
        }
      ]
    },
    {
      "cell_type": "markdown",
      "source": [
        "**DATA VISUALISATION**"
      ],
      "metadata": {
        "id": "5wn1usoEkmTt"
      }
    },
    {
      "cell_type": "code",
      "source": [
        "scaler = StandardScaler()"
      ],
      "metadata": {
        "id": "O2wSdT28oMpS"
      },
      "execution_count": 8,
      "outputs": []
    },
    {
      "cell_type": "code",
      "source": [
        "scaled_dataset = scaler.fit_transform(data_to_use.reshape(-1, 1))"
      ],
      "metadata": {
        "id": "5_CGICJ4oMzN"
      },
      "execution_count": 9,
      "outputs": []
    },
    {
      "cell_type": "code",
      "source": [
        "plt.figure(figsize=(12,7), frameon=False, facecolor='brown', edgecolor='purple')\n",
        "plt.title('Scaled TESLA stocks')\n",
        "plt.xlabel('Days')\n",
        "plt.ylabel('Scaled value of stocks')\n",
        "plt.plot(scaled_dataset, label='Stocks data')\n",
        "plt.legend()\n",
        "plt.show()"
      ],
      "metadata": {
        "colab": {
          "base_uri": "https://localhost:8080/",
          "height": 458
        },
        "id": "8B3HpWE7ox55",
        "outputId": "7186dfca-72d0-4221-8088-72fb72825651"
      },
      "execution_count": 10,
      "outputs": [
        {
          "output_type": "display_data",
          "data": {
            "image/png": "[encoded data removed]",
            "text/plain": [
              "<Figure size 864x504 with 1 Axes>"
            ]
          },
          "metadata": {}
        }
      ]
    },
    {
      "cell_type": "code",
      "source": [
        "def window_data(data, window_size):\n",
        "  \n",
        "    X = []\n",
        "    y = []\n",
        "    \n",
        "    i = 0\n",
        "    while (i + window_size) <= len(data) - 1:\n",
        "        X.append(data[i:i+window_size])\n",
        "        y.append(data[i+window_size])\n",
        "        \n",
        "        i += 1\n",
        "    assert len(X) ==  len(y)\n",
        "    return X, y"
      ],
      "metadata": {
        "id": "-Z_5QgWWox85"
      },
      "execution_count": 11,
      "outputs": []
    },
    {
      "cell_type": "code",
      "source": [
        "X, y = window_data(scaled_dataset, 7)"
      ],
      "metadata": {
        "id": "0lvaQToXlJ66"
      },
      "execution_count": 12,
      "outputs": []
    },
    {
      "cell_type": "markdown",
      "source": [
        "**Creating and Training Datasets**"
      ],
      "metadata": {
        "id": "4RXEPbiWlOlu"
      }
    },
    {
      "cell_type": "code",
      "source": [
        "X_train  = np.array(X[:200])\n",
        "y_train = np.array(y[:200])\n",
        "\n",
        "X_test = np.array(X[200:])\n",
        "y_test = np.array(y[200:])\n",
        "\n",
        "print(\"X_train size: {}\".format(X_train.shape))\n",
        "print(\"y_train size: {}\".format(y_train.shape))\n",
        "print(\"X_test size: {}\".format(X_test.shape))\n",
        "print(\"y_test size: {}\".format(y_test.shape))"
      ],
      "metadata": {
        "colab": {
          "base_uri": "https://localhost:8080/"
        },
        "id": "pYF7_ZYFlSix",
        "outputId": "d4a1253b-9240-4055-ceae-128040ae1297"
      },
      "execution_count": 13,
      "outputs": [
        {
          "output_type": "stream",
          "name": "stdout",
          "text": [
            "X_train size: (200, 7, 1)\n",
            "y_train size: (200, 1)\n",
            "X_test size: (46, 7, 1)\n",
            "y_test size: (46, 1)\n"
          ]
        }
      ]
    },
    {
      "cell_type": "markdown",
      "source": [
        "**Creating the LSTM Model (RNN Architecture)**\n",
        "\n",
        "\n"
      ],
      "metadata": {
        "id": "B3ff14Fhl3eB"
      }
    },
    {
      "cell_type": "code",
      "source": [
        "\n",
        "batch_size = 7 \n",
        "window_size = 7\n",
        "hidden_layer = 256 \n",
        "clip_margin = 4 \n",
        "learning_rate = 0.001 \n",
        "epochs = 200 "
      ],
      "metadata": {
        "id": "kgphQURNl7lV"
      },
      "execution_count": 17,
      "outputs": []
    },
    {
      "cell_type": "code",
      "source": [
        "import tensorflow.compat.v1 as tf\n",
        "tf.disable_v2_behavior()\n",
        "inputs = tf.placeholder(tf.float32, [batch_size, window_size, 1])\n",
        "targets = tf.placeholder(tf.float32, [batch_size, 1])"
      ],
      "metadata": {
        "id": "LJwQ6XoTmGak"
      },
      "execution_count": 18,
      "outputs": []
    },
    {
      "cell_type": "code",
      "source": [
        "\n",
        "weights_input_gate = tf.Variable(tf.truncated_normal([1, hidden_layer], stddev=0.05))\n",
        "weights_input_hidden = tf.Variable(tf.truncated_normal([hidden_layer, hidden_layer], stddev=0.05))\n",
        "bias_input = tf.Variable(tf.zeros([hidden_layer]))\n",
        "\n",
        "\n",
        "weights_forget_gate = tf.Variable(tf.truncated_normal([1, hidden_layer], stddev=0.05))\n",
        "weights_forget_hidden = tf.Variable(tf.truncated_normal([hidden_layer, hidden_layer], stddev=0.05))\n",
        "bias_forget = tf.Variable(tf.zeros([hidden_layer]))\n",
        "\n",
        "weights_output_gate = tf.Variable(tf.truncated_normal([1, hidden_layer], stddev=0.05))\n",
        "weights_output_hidden = tf.Variable(tf.truncated_normal([hidden_layer, hidden_layer], stddev=0.05))\n",
        "bias_output = tf.Variable(tf.zeros([hidden_layer]))\n",
        "\n",
        "\n",
        "weights_memory_cell = tf.Variable(tf.truncated_normal([1, hidden_layer], stddev=0.05))\n",
        "weights_memory_cell_hidden = tf.Variable(tf.truncated_normal([hidden_layer, hidden_layer], stddev=0.05))\n",
        "bias_memory_cell = tf.Variable(tf.zeros([hidden_layer]))"
      ],
      "metadata": {
        "id": "uA0bR8ZEmJwG"
      },
      "execution_count": 20,
      "outputs": []
    },
    {
      "cell_type": "code",
      "source": [
        "\n",
        "weights_output = tf.Variable(tf.truncated_normal([hidden_layer, 1], stddev=0.05))\n",
        "bias_output_layer = tf.Variable(tf.zeros([1]))"
      ],
      "metadata": {
        "id": "26JHX43QmLkZ"
      },
      "execution_count": 21,
      "outputs": []
    },
    {
      "cell_type": "code",
      "source": [
        "def LSTM_cell(input, output, state):\n",
        "    \n",
        "    input_gate = tf.sigmoid(tf.matmul(input, weights_input_gate) + tf.matmul(output, weights_input_hidden) + bias_input)\n",
        "    \n",
        "    forget_gate = tf.sigmoid(tf.matmul(input, weights_forget_gate) + tf.matmul(output, weights_forget_hidden) + bias_forget)\n",
        "    \n",
        "    output_gate = tf.sigmoid(tf.matmul(input, weights_output_gate) + tf.matmul(output, weights_output_hidden) + bias_output)\n",
        "    \n",
        "    memory_cell = tf.tanh(tf.matmul(input, weights_memory_cell) + tf.matmul(output, weights_memory_cell_hidden) + bias_memory_cell)\n",
        "    \n",
        "    state = state * forget_gate + input_gate * memory_cell\n",
        "    \n",
        "    output = output_gate * tf.tanh(state)\n",
        "    return state, output"
      ],
      "metadata": {
        "id": "nHy_wfE2mPs7"
      },
      "execution_count": 22,
      "outputs": []
    },
    {
      "cell_type": "code",
      "source": [
        "outputs = []\n",
        "for i in range(batch_size): \n",
        "    \n",
        "    batch_state = np.zeros([1, hidden_layer], dtype=np.float32) \n",
        "    batch_output = np.zeros([1, hidden_layer], dtype=np.float32)\n",
        "    \n",
        "    for ii in range(window_size):\n",
        "        batch_state, batch_output = LSTM_cell(tf.reshape(inputs[i][ii], (-1, 1)), batch_state, batch_output)\n",
        "  \n",
        "    outputs.append(tf.matmul(batch_output, weights_output) + bias_output_layer)"
      ],
      "metadata": {
        "id": "Xx6L7IN0q8ZB"
      },
      "execution_count": 24,
      "outputs": []
    },
    {
      "cell_type": "code",
      "source": [
        "outputs"
      ],
      "metadata": {
        "colab": {
          "base_uri": "https://localhost:8080/"
        },
        "id": "pASV9B9nme2R",
        "outputId": "b98b6569-d6ab-4d1d-ee45-a9abb648f665"
      },
      "execution_count": 25,
      "outputs": [
        {
          "output_type": "execute_result",
          "data": {
            "text/plain": [
              "[<tf.Tensor 'add_511:0' shape=(1, 1) dtype=float32>,\n",
              " <tf.Tensor 'add_575:0' shape=(1, 1) dtype=float32>,\n",
              " <tf.Tensor 'add_639:0' shape=(1, 1) dtype=float32>,\n",
              " <tf.Tensor 'add_703:0' shape=(1, 1) dtype=float32>,\n",
              " <tf.Tensor 'add_767:0' shape=(1, 1) dtype=float32>,\n",
              " <tf.Tensor 'add_831:0' shape=(1, 1) dtype=float32>,\n",
              " <tf.Tensor 'add_895:0' shape=(1, 1) dtype=float32>]"
            ]
          },
          "metadata": {},
          "execution_count": 25
        }
      ]
    },
    {
      "cell_type": "markdown",
      "source": [
        "Losses"
      ],
      "metadata": {
        "id": "-0Dy4V6Rt-a_"
      }
    },
    {
      "cell_type": "code",
      "source": [
        "losses = []\n",
        "\n",
        "for i in range(len(outputs)):\n",
        "    losses.append(tf.losses.mean_squared_error(tf.reshape(targets[i], (-1, 1)), outputs[i]))\n",
        "    \n",
        "loss = tf.reduce_mean(losses)"
      ],
      "metadata": {
        "id": "oy5Bwa8ct_XO"
      },
      "execution_count": 26,
      "outputs": []
    },
    {
      "cell_type": "code",
      "source": [
        "gradients = tf.gradients(loss, tf.trainable_variables())\n",
        "clipped, _ = tf.clip_by_global_norm(gradients, clip_margin)\n",
        "optimizer = tf.train.AdamOptimizer(learning_rate)\n",
        "trained_optimizer = optimizer.apply_gradients(zip(gradients, tf.trainable_variables()))"
      ],
      "metadata": {
        "id": "IKqWClrnuCK_"
      },
      "execution_count": 27,
      "outputs": []
    },
    {
      "cell_type": "code",
      "source": [
        "session = tf.Session()"
      ],
      "metadata": {
        "id": "o7AN83iIuD8I"
      },
      "execution_count": 28,
      "outputs": []
    },
    {
      "cell_type": "code",
      "source": [
        "session.run(tf.global_variables_initializer())"
      ],
      "metadata": {
        "id": "rGbTtuDYuFRV"
      },
      "execution_count": 29,
      "outputs": []
    },
    {
      "cell_type": "code",
      "source": [
        "for i in range(epochs):\n",
        "    traind_scores = []\n",
        "    ii = 0\n",
        "    epoch_loss = []\n",
        "    while(ii + batch_size) <= len(X_train):\n",
        "        X_batch = X_train[ii:ii+batch_size]\n",
        "        y_batch = y_train[ii:ii+batch_size]\n",
        "        \n",
        "        o, c, _ = session.run([outputs, loss, trained_optimizer], feed_dict={inputs:X_batch, targets:y_batch})\n",
        "        \n",
        "        epoch_loss.append(c)\n",
        "        traind_scores.append(o)\n",
        "        ii += batch_size\n",
        "    if (i % 30) == 0:\n",
        "        print('Epoch {}/{}'.format(i, epochs), ' Current loss: {}'.format(np.mean(epoch_loss)))"
      ],
      "metadata": {
        "colab": {
          "base_uri": "https://localhost:8080/"
        },
        "id": "9FFJTuhruHHY",
        "outputId": "649cf150-3ca1-4fb9-c42d-6edfc17aee42"
      },
      "execution_count": 30,
      "outputs": [
        {
          "output_type": "stream",
          "name": "stdout",
          "text": [
            "Epoch 0/200  Current loss: 0.17598986625671387\n",
            "Epoch 30/200  Current loss: 0.024895446375012398\n",
            "Epoch 60/200  Current loss: 0.01854400523006916\n",
            "Epoch 90/200  Current loss: 0.016590304672718048\n",
            "Epoch 120/200  Current loss: 0.016211632639169693\n",
            "Epoch 150/200  Current loss: 0.01520558912307024\n",
            "Epoch 180/200  Current loss: 0.015082462690770626\n"
          ]
        }
      ]
    },
    {
      "cell_type": "code",
      "source": [
        "sup =[]\n",
        "for i in range(len(traind_scores)):\n",
        "    for j in range(len(traind_scores[i])):\n",
        "        sup.append(traind_scores[i][j][0])\n"
      ],
      "metadata": {
        "id": "sSfiOuYzu456"
      },
      "execution_count": 31,
      "outputs": []
    },
    {
      "cell_type": "code",
      "source": [
        "tests = []\n",
        "i = 0\n",
        "while i+batch_size <= len(X_test):\n",
        "    \n",
        "    o = session.run([outputs], feed_dict={inputs:X_test[i:i+batch_size]})\n",
        "    i += batch_size\n",
        "    tests.append(o)"
      ],
      "metadata": {
        "id": "x9_xMvmzu65u"
      },
      "execution_count": 32,
      "outputs": []
    },
    {
      "cell_type": "code",
      "source": [
        "tests_new = []\n",
        "for i in range(len(tests)):\n",
        "    for j in range(len(tests[i][0])):\n",
        "        tests_new.append(tests[i][0][j])"
      ],
      "metadata": {
        "id": "vKaM5T47u8vE"
      },
      "execution_count": 33,
      "outputs": []
    },
    {
      "cell_type": "code",
      "source": [
        "len(tests_new)"
      ],
      "metadata": {
        "colab": {
          "base_uri": "https://localhost:8080/"
        },
        "id": "9DgMCYHCzS21",
        "outputId": "69389f48-8052-4eef-a347-75a0d2ca1d87"
      },
      "execution_count": 34,
      "outputs": [
        {
          "output_type": "execute_result",
          "data": {
            "text/plain": [
              "42"
            ]
          },
          "metadata": {},
          "execution_count": 34
        }
      ]
    },
    {
      "cell_type": "code",
      "source": [
        "test_results = []\n",
        "for i in range(84):\n",
        "    if i >= 42:\n",
        "        test_results.append(tests_new[i-42])\n",
        "    else:\n",
        "        test_results.append(None)"
      ],
      "metadata": {
        "id": "fbs-HQrDu-vr"
      },
      "execution_count": 35,
      "outputs": []
    },
    {
      "cell_type": "code",
      "source": [
        "test_results"
      ],
      "metadata": {
        "id": "4wdnQwDKEgN4",
        "outputId": "04130898-1e91-43f6-e681-025323263f17",
        "colab": {
          "base_uri": "https://localhost:8080/"
        }
      },
      "execution_count": 36,
      "outputs": [
        {
          "output_type": "execute_result",
          "data": {
            "text/plain": [
              "[None,\n",
              " None,\n",
              " None,\n",
              " None,\n",
              " None,\n",
              " None,\n",
              " None,\n",
              " None,\n",
              " None,\n",
              " None,\n",
              " None,\n",
              " None,\n",
              " None,\n",
              " None,\n",
              " None,\n",
              " None,\n",
              " None,\n",
              " None,\n",
              " None,\n",
              " None,\n",
              " None,\n",
              " None,\n",
              " None,\n",
              " None,\n",
              " None,\n",
              " None,\n",
              " None,\n",
              " None,\n",
              " None,\n",
              " None,\n",
              " None,\n",
              " None,\n",
              " None,\n",
              " None,\n",
              " None,\n",
              " None,\n",
              " None,\n",
              " None,\n",
              " None,\n",
              " None,\n",
              " None,\n",
              " None,\n",
              " array([[1.6833864]], dtype=float32),\n",
              " array([[1.7834129]], dtype=float32),\n",
              " array([[2.2401152]], dtype=float32),\n",
              " array([[2.2815132]], dtype=float32),\n",
              " array([[1.7765261]], dtype=float32),\n",
              " array([[0.9236165]], dtype=float32),\n",
              " array([[1.5310229]], dtype=float32),\n",
              " array([[2.420844]], dtype=float32),\n",
              " array([[1.65549]], dtype=float32),\n",
              " array([[0.7000714]], dtype=float32),\n",
              " array([[1.0034766]], dtype=float32),\n",
              " array([[1.9296813]], dtype=float32),\n",
              " array([[1.3284768]], dtype=float32),\n",
              " array([[1.3366854]], dtype=float32),\n",
              " array([[1.6527976]], dtype=float32),\n",
              " array([[1.5754251]], dtype=float32),\n",
              " array([[1.4507372]], dtype=float32),\n",
              " array([[1.6102451]], dtype=float32),\n",
              " array([[2.0438762]], dtype=float32),\n",
              " array([[1.8553088]], dtype=float32),\n",
              " array([[1.2968252]], dtype=float32),\n",
              " array([[1.1640066]], dtype=float32),\n",
              " array([[1.1976751]], dtype=float32),\n",
              " array([[1.4542056]], dtype=float32),\n",
              " array([[1.5779444]], dtype=float32),\n",
              " array([[1.6173512]], dtype=float32),\n",
              " array([[0.6290976]], dtype=float32),\n",
              " array([[0.6512955]], dtype=float32),\n",
              " array([[1.0463558]], dtype=float32),\n",
              " array([[1.2512507]], dtype=float32),\n",
              " array([[0.8528696]], dtype=float32),\n",
              " array([[0.50074536]], dtype=float32),\n",
              " array([[0.51714927]], dtype=float32),\n",
              " array([[0.3234973]], dtype=float32),\n",
              " array([[0.90582645]], dtype=float32),\n",
              " array([[1.1828961]], dtype=float32),\n",
              " array([[1.2874846]], dtype=float32),\n",
              " array([[1.3715969]], dtype=float32),\n",
              " array([[1.1587663]], dtype=float32),\n",
              " array([[1.4824334]], dtype=float32),\n",
              " array([[1.6186361]], dtype=float32),\n",
              " array([[1.5496281]], dtype=float32)]"
            ]
          },
          "metadata": {},
          "execution_count": 36
        }
      ]
    },
    {
      "cell_type": "markdown",
      "source": [
        "**Predictions from the network**"
      ],
      "metadata": {
        "id": "09uHvYgyvm0Y"
      }
    },
    {
      "cell_type": "code",
      "source": [
        "plt.figure(figsize=(16, 7))\n",
        "plt.plot(scaled_dataset, label='Original data')\n",
        "plt.plot(sup, label='Training data')\n",
        "plt.plot(test_results, label='Testing data')\n",
        "plt.legend()\n",
        "plt.show()"
      ],
      "metadata": {
        "colab": {
          "base_uri": "https://localhost:8080/",
          "height": 483
        },
        "id": "AnAVuLYgvmAI",
        "outputId": "c96f3149-05dc-4248-920a-44317ef945dd"
      },
      "execution_count": 37,
      "outputs": [
        {
          "output_type": "stream",
          "name": "stderr",
          "text": [
            "/usr/local/lib/python3.7/dist-packages/numpy/core/_asarray.py:136: VisibleDeprecationWarning: Creating an ndarray from ragged nested sequences (which is a list-or-tuple of lists-or-tuples-or ndarrays with different lengths or shapes) is deprecated. If you meant to do this, you must specify 'dtype=object' when creating the ndarray\n",
            "  return array(a, dtype, copy=False, order=order, subok=True)\n"
          ]
        },
        {
          "output_type": "display_data",
          "data": {
            "image/png": "[encoded data removed]",
            "text/plain": [
              "<Figure size 1152x504 with 1 Axes>"
            ]
          },
          "metadata": {
            "needs_background": "light"
          }
        }
      ]
    }
  ]
}